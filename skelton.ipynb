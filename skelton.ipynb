{
 "cells": [
  {
   "cell_type": "code",
   "execution_count": null,
   "id": "9a6cd612",
   "metadata": {},
   "outputs": [],
   "source": [
    "# !jupyter kernelspec list\n",
    "# !jupyter notebook --NotebookApp.kernel_name=python3"
   ]
  },
  {
   "cell_type": "code",
   "execution_count": 83,
   "id": "c7f262aa",
   "metadata": {},
   "outputs": [],
   "source": [
    "# !pip install -q pybotters numpy pandas\n",
    "!pip install -q python-dotenv"
   ]
  },
  {
   "cell_type": "code",
   "execution_count": null,
   "id": "993e3d51",
   "metadata": {},
   "outputs": [],
   "source": [
    "import pybotters\n",
    "import pandas as pd\n",
    "from pandas import DataFrame"
   ]
  },
  {
   "cell_type": "markdown",
   "id": "f1e14b89",
   "metadata": {},
   "source": [
    "\n",
    "## Idea\n",
    "* バブル相場ではどうせ価格は上がるんだから、一時的に下げた後のお得なところで買えば勝てるよね！"
   ]
  },
  {
   "cell_type": "markdown",
   "id": "e87a1c09",
   "metadata": {},
   "source": [
    "## 設計構想\n",
    "\n",
    "* 直近N分の価格取得\n",
    "  * 最低価格を計算\n",
    "\n",
    "\n",
    "* "
   ]
  },
  {
   "cell_type": "markdown",
   "id": "40de6185",
   "metadata": {},
   "source": []
  },
  {
   "cell_type": "markdown",
   "id": "309527a5",
   "metadata": {},
   "source": [
    "## 参考\n",
    "\n",
    "[バブル相場用の回転ボットのコンセプトとQuantZoneロジック(追記あり)](https://note.com/hht/n/n63022edc4610)\n",
    "\n",
    "* 「レバレッジL倍で、直近N分高値から、R %価格が下がった位置にエントリー指値」\n",
    "* 「直近N分安値から、R %価格が上がったら位置に決済指値」"
   ]
  },
  {
   "cell_type": "code",
   "execution_count": 1,
   "id": "993e3d51",
   "metadata": {},
   "outputs": [],
   "source": [
    "import pybotters"
   ]
  },
  {
   "cell_type": "code",
   "execution_count": 106,
   "id": "a2ff5846",
   "metadata": {},
   "outputs": [],
   "source": [
    "class Exchange():\n",
    "    \"\"\"\n",
    "    取引所と直接APIのやり取りを行う\n",
    "    \"\"\"\n",
    "    def __init__(self, client):\n",
    "        self.client = client\n",
    "        pass\n",
    "    \n",
    "    async def get_klines(self, pair_symbol:str, interval:str='60', limit:str='5') -> pd.DataFrame:\n",
    "        \"\"\"\n",
    "        /v5/market/kline\n",
    "        ローソク足(kline)を取得\n",
    "        \"\"\"\n",
    "\n",
    "        async with self.client.get(\n",
    "            f\"/v5/market/kline?category=linear&interval=60&symbol={pair_symbol}&interval={interval}&limit={limit}\"\n",
    "        ) as resp:\n",
    "            content = await resp.json()\n",
    "\n",
    "        klines = content['result']['list']\n",
    "        klines = pd.DataFrame(klines)\n",
    "        klines.columns = ['timestamp', 'open', 'high', 'low', 'close', 'volume', 'turnover']\n",
    "\n",
    "        return klines\n",
    "\n",
    "    async def get_latest_price(self, pair_symbol:str):\n",
    "        \"\"\"\"\"\"\"\"\n",
    "        klines = await self.get_klines(pair_symbol, interval='1', limit='1')\n",
    "        latest_price = float(klines['close'].values[-1])\n",
    "        return latest_price\n",
    "\n",
    "\n",
    "    async def get_symbol_info(self):\n",
    "        \"\"\"銘柄の情報を取得\"\"\"\n",
    "        pass\n",
    "\n",
    "    async def get_position(self):\n",
    "        async with self.client.get(\"/v5/position/list?category=linear&settleCoin=USDT\") as resp:\n",
    "            content = await resp.json()\n",
    "            symbol_list = [{'symbol': json['symbol'], 'side': json['side'], 'size': json['size']} for json in content['result']['list']]\n",
    "            return symbol_list\n",
    "\n",
    "    async def create_order(self, pair_symbol, qty, side='Buy', price=None, reduce_only=False):\n",
    "        data = data={\n",
    "                'category': \"linear\",\n",
    "                'symbol': pair_symbol,\n",
    "                'side': side,\n",
    "                'orderType': 'Limit',\n",
    "                'price': price,\n",
    "                'qty': qty,\n",
    "                'reduceOnly': reduce_only,\n",
    "        }\n",
    "        print(data)\n",
    "        async with self.client.post(\n",
    "            \"/v5/order/create\",\n",
    "            data=data) as resp:\n",
    "            content = await resp.json()\n",
    "            print(content)\n",
    "            return content['retMsg']\n",
    "\n",
    "    "
   ]
  },
  {
   "cell_type": "code",
   "execution_count": 107,
   "id": "5637949b",
   "metadata": {},
   "outputs": [],
   "source": [
    "# class DataFetcher():\n",
    "#     \"\"\"\n",
    "#     Exchangeを介して、取引所からデータを取得する\n",
    "#     \"\"\"\n",
    "#     def __init__(self, exchange):\n",
    "#         self.exchange = exchange\n",
    "#         pass\n",
    "\n",
    "#     async def get_klines(self):\n",
    "#         klines = await self.exchange.get_klines()\n",
    "#         klines = pd.DataFrame(klines)\n",
    "#         klines.columns = ['timestamp', 'open', 'high', 'low', 'close', 'volume', 'turnover']\n",
    "\n",
    "#     def \n"
   ]
  },
  {
   "cell_type": "code",
   "execution_count": 108,
   "id": "02ea0281",
   "metadata": {},
   "outputs": [],
   "source": [
    "\n",
    "\n",
    "class TradingStrategy():\n",
    "    \"\"\"\n",
    "    ロジックをもとに売買に関わるシグナルを作成する\n",
    "    \"\"\"\n",
    "    def __init__(self, exchange: Exchange, trading_volume: float=10, rate_of_drop:float=0.2, rate_of_pump:float=0.2):\n",
    "        self.exchange = exchange\n",
    "        self.trading_volume = trading_volume\n",
    "        self.rate_of_drop = rate_of_drop\n",
    "        self.rate_of_pump = rate_of_pump\n",
    "    \n",
    "    def calc_position_size(self):\n",
    "\n",
    "        pass\n",
    "\n",
    "    async def calc_buy_price(self, pair_symbol:str, interval:str=60) -> float:\n",
    "        klines:DataFrame = await self.exchange.get_klines(pair_symbol=pair_symbol, interval=interval, limit='5')\n",
    "        high:float = klines['high'].astype(float).values\n",
    "        highest_price:float = high.max()\n",
    "        buy_price:float = highest_price * (1 - self.rate_of_drop)\n",
    "        # レバレッジ部分は追加実装する必要あり\n",
    "        return buy_price\n",
    "\n",
    "    async def calc_sell_price(self, pair_symbol:str, interval:str=60) -> float:\n",
    "        klines:DataFrame = await self.exchange.get_klines(pair_symbol=pair_symbol, interval=interval, limit='5')\n",
    "        low:float = klines['low'].astype(float).values\n",
    "        lowest_price:float = low.min()\n",
    "        sell_price:float = lowest_price * (1 + self.rate_of_pump)\n",
    "        return sell_price"
   ]
  },
  {
   "cell_type": "code",
   "execution_count": 113,
   "id": "69184102",
   "metadata": {},
   "outputs": [],
   "source": [
    "class KaitenBot():\n",
    "    \"\"\"\n",
    "    ロジックに沿ってトレードを行う最上位クラス\n",
    "    \"\"\"\n",
    "    def __init__(self, client):\n",
    "        self.exchange = Exchange(client)\n",
    "        self.trading_strategy = TradingStrategy(self.exchange)\n",
    "    \n",
    "    async def run(self):\n",
    "        pair_symbol = 'TRBUSDT'\n",
    "        buy_price = await self.trading_strategy.calc_buy_price(pair_symbol)\n",
    "        ret_msg = await self.exchange.create_order(pair_symbol=pair_symbol, qty='0.01', side='Buy', price=str(int(buy_price)), reduce_only=False)\n",
    "        print(ret_msg)\n",
    "        "
   ]
  },
  {
   "cell_type": "code",
   "execution_count": 117,
   "id": "50d8e538",
   "metadata": {},
   "outputs": [
    {
     "name": "stdout",
     "output_type": "stream",
     "text": [
      "{'category': 'linear', 'symbol': 'TRBUSDT', 'side': 'Buy', 'orderType': 'Limit', 'price': '145', 'qty': '0.01', 'reduceOnly': False}\n",
      "{'retCode': 0, 'retMsg': 'OK', 'result': {'orderId': '15200b01-d016-4b82-a37c-9b9d37a7a0d0', 'orderLinkId': ''}, 'retExtInfo': {}, 'time': 1704266719173}\n",
      "OK\n"
     ]
    }
   ],
   "source": [
    "import os\n",
    "from dotenv import load_dotenv\n",
    "\n",
    "load_dotenv('.env')\n",
    "\n",
    "apis = {\n",
    "    'bybit': [os.getenv('API_KEY'), os.getenv('API_SECRET')]\n",
    "}\n",
    "\n",
    "async with pybotters.Client(apis=apis, base_url='https://api.bybit.com') as client:\n",
    "    kaiten_bot = KaitenBot(client)\n",
    "    await kaiten_bot.run()\n"
   ]
  },
  {
   "cell_type": "code",
   "execution_count": 116,
   "id": "165a3d9f",
   "metadata": {},
   "outputs": [
    {
     "ename": "TypeError",
     "evalue": "Exchange.get_latest_price() missing 1 required positional argument: 'pair_symbol'",
     "output_type": "error",
     "traceback": [
      "\u001b[0;31m---------------------------------------------------------------------------\u001b[0m",
      "\u001b[0;31mTypeError\u001b[0m                                 Traceback (most recent call last)",
      "Cell \u001b[0;32mIn[116], line 14\u001b[0m\n\u001b[1;32m     11\u001b[0m exchange \u001b[38;5;241m=\u001b[39m Exchange(client)\n\u001b[1;32m     12\u001b[0m \u001b[38;5;66;03m# klines = await exchange.get_klines()\u001b[39;00m\n\u001b[1;32m     13\u001b[0m \u001b[38;5;66;03m# print(klines)\u001b[39;00m\n\u001b[0;32m---> 14\u001b[0m latest_price \u001b[38;5;241m=\u001b[39m \u001b[38;5;28;01mawait\u001b[39;00m exchange\u001b[38;5;241m.\u001b[39mget_latest_price()\n\u001b[1;32m     15\u001b[0m \u001b[38;5;28mprint\u001b[39m(latest_price)\n\u001b[1;32m     16\u001b[0m \u001b[38;5;66;03m# position = await exchange.get_position()\u001b[39;00m\n\u001b[1;32m     17\u001b[0m \u001b[38;5;66;03m# print(position)\u001b[39;00m\n",
      "\u001b[0;31mTypeError\u001b[0m: Exchange.get_latest_price() missing 1 required positional argument: 'pair_symbol'"
     ]
    }
   ],
   "source": [
    "import os\n",
    "from dotenv import load_dotenv\n",
    "\n",
    "load_dotenv('.env')\n",
    "\n",
    "apis = {\n",
    "    'bybit': [os.getenv('API_KEY'), os.getenv('API_SECRET')]\n",
    "}\n",
    "\n",
    "async with pybotters.Client(apis=apis, base_url='https://api.bybit.com') as client:\n",
    "    exchange = Exchange(client)\n",
    "    # klines = await exchange.get_klines()\n",
    "    # print(klines)\n",
    "    latest_price = await exchange.get_latest_price()\n",
    "    print(latest_price)\n",
    "    # position = await exchange.get_position()\n",
    "    # print(position)\n",
    "    trading_strategy = TradingStrategy(exchange)\n",
    "    buy_price = await trading_strategy.calc_buy_price()\n",
    "    print(f'{buy_price=}, {latest_price * (1 - trading_strategy.rate_of_drop)=}')\n"
   ]
  },
  {
   "cell_type": "code",
   "execution_count": null,
   "id": "5637949b",
   "metadata": {},
   "outputs": [],
   "source": [
    "# class DataFetcher():\n",
    "#     \"\"\"\n",
    "#     Exchangeを介して、取引所からデータを取得する\n",
    "#     \"\"\"\n",
    "#     def __init__(self, exchange):\n",
    "#         self.exchange = exchange\n",
    "#         pass\n",
    "\n",
    "#     async def get_klines(self):\n",
    "#         klines = await self.exchange.get_klines()\n",
    "#         klines = pd.DataFrame(klines)\n",
    "#         klines.columns = ['timestamp', 'open', 'high', 'low', 'close', 'volume', 'turnover']\n",
    "\n",
    "#     def \n"
   ]
  },
  {
   "cell_type": "code",
   "execution_count": 78,
   "id": "0ecd8037",
   "metadata": {},
   "outputs": [
    {
     "data": {
      "text/plain": [
       "36340.8"
      ]
     },
     "execution_count": 78,
     "metadata": {},
     "output_type": "execute_result"
    }
   ],
   "source": [
    "buy_price"
   ]
  },
  {
   "cell_type": "code",
   "execution_count": null,
   "id": "eae4d988",
   "metadata": {},
   "outputs": [],
   "source": []
  }
 ],
 "metadata": {
  "kernelspec": {
   "display_name": "Python 3.10.10 64-bit ('flashloan_arb')",
   "language": "python",
   "name": "python3"
  },
  "language_info": {
   "codemirror_mode": {
    "name": "ipython",
    "version": 3
   },
   "file_extension": ".py",
   "mimetype": "text/x-python",
   "name": "python",
   "nbconvert_exporter": "python",
   "pygments_lexer": "ipython3",
   "version": "3.10.10"
  },
  "vscode": {
   "interpreter": {
    "hash": "253f551e65847a6d8ef6a64571affca4746e9644a0aed1a9af55f569e7de41d8"
   }
  }
 },
 "nbformat": 4,
 "nbformat_minor": 5
}
